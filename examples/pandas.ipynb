{
 "cells": [
  {
   "cell_type": "code",
   "execution_count": 1,
   "id": "1b6cb5ce-d40b-45ca-a524-1c3281c6597d",
   "metadata": {},
   "outputs": [],
   "source": [
    "import pandas"
   ]
  },
  {
   "cell_type": "code",
   "execution_count": 4,
   "id": "41106f7c-2ec9-46b2-a1ea-2e7063ab1487",
   "metadata": {},
   "outputs": [],
   "source": [
    "import psycopg\n",
    "import pandas as pd"
   ]
  },
  {
   "cell_type": "code",
   "execution_count": 25,
   "id": "85ef5575-efe8-419d-9395-656a74490706",
   "metadata": {},
   "outputs": [],
   "source": [
    "conn_params = {\n",
    "    \"host\": \"127.0.0.1\",  # e.g., \"localhost\"\n",
    "    \"dbname\": \"postgres\",  # e.g., \"mydatabase\"\n",
    "    \"user\": \"postgres\",  # e.g., \"myusername\"\n",
    "    \"password\": \"postgres\",  # e.g., \"mypassword\"\n",
    "    \"port\": \"5432\"  # default port for PostgreSQL\n",
    "}"
   ]
  },
  {
   "cell_type": "code",
   "execution_count": 26,
   "id": "7d8cf9cd-c7fe-4108-8eaf-69194bfa5b48",
   "metadata": {},
   "outputs": [],
   "source": [
    "conn = psycopg.connect(**conn_params)"
   ]
  },
  {
   "cell_type": "code",
   "execution_count": 27,
   "id": "e24f2d91-3903-4b15-ac39-8d866a16d8f7",
   "metadata": {},
   "outputs": [],
   "source": [
    "query = \"select hdate, open, high, low, close, volume, trade_count   from turtle.bars_history bh where symbol = 'AMZN' and hdate > '2024-07-01' order by hdate\""
   ]
  },
  {
   "cell_type": "code",
   "execution_count": null,
   "id": "96deed29-32f6-4a86-a9ef-baa73943a612",
   "metadata": {},
   "outputs": [],
   "source": [
    "with psycopg.connect(**conn_params) as conn:\n",
    "    with conn.cursor() as cur:\n",
    "        cur.execute(query)\n",
    "        # Fetch all rows\n",
    "        rows = cur.fetchall()\n",
    "        # Get column names from the cursor description\n",
    "        col_names = [desc.name for desc in cur.description]\n",
    "\n",
    "dtypes = {\n",
    "    \"hdate\": \"string\",\n",
    "    \"open\": \"float64\",\n",
    "    \"high\": \"float64\",\n",
    "    \"low\": \"float64\",\n",
    "    \"close\": \"float64\",\n",
    "    \"volume\": \"int64\",\n",
    "    \"trade_count\": \"int64\"\n",
    "}\n",
    "\n",
    "# Create a pandas DataFrame from the fetched data\n",
    "df = pd.DataFrame(rows, columns=col_names).astype(dtypes)\n",
    "df['hdate'] = pd.to_datetime(df['hdate'])\n",
    "df = df.set_index(['hdate'])\n",
    "\n",
    "# Display the DataFrame\n",
    "print(df)"
   ]
  },
  {
   "cell_type": "code",
   "execution_count": 29,
   "id": "00eddbc4-0ac2-4df6-bc12-c5d01110525a",
   "metadata": {},
   "outputs": [
    {
     "name": "stdout",
     "output_type": "stream",
     "text": [
      "<class 'pandas.core.frame.DataFrame'>\n",
      "DatetimeIndex: 28 entries, 2024-07-02 to 2024-08-09\n",
      "Data columns (total 6 columns):\n",
      " #   Column       Non-Null Count  Dtype  \n",
      "---  ------       --------------  -----  \n",
      " 0   open         28 non-null     float64\n",
      " 1   high         28 non-null     float64\n",
      " 2   low          28 non-null     float64\n",
      " 3   close        28 non-null     float64\n",
      " 4   volume       28 non-null     int64  \n",
      " 5   trade_count  28 non-null     int64  \n",
      "dtypes: float64(4), int64(2)\n",
      "memory usage: 1.5 KB\n"
     ]
    }
   ],
   "source": [
    "df.info()"
   ]
  },
  {
   "cell_type": "code",
   "execution_count": 33,
   "id": "ba0b1ac4-f4e9-4f28-9265-a74f9b4f60dc",
   "metadata": {},
   "outputs": [],
   "source": [
    "import pandas_ta as ta"
   ]
  },
  {
   "cell_type": "code",
   "execution_count": 34,
   "id": "9facd716",
   "metadata": {},
   "outputs": [],
   "source": [
    "df['SMA_10'] = ta.sma(df['close'], length=10)"
   ]
  },
  {
   "cell_type": "code",
   "execution_count": null,
   "id": "83537298",
   "metadata": {},
   "outputs": [],
   "source": [
    "df.info()"
   ]
  },
  {
   "cell_type": "code",
   "execution_count": 36,
   "id": "74f0c356",
   "metadata": {},
   "outputs": [
    {
     "name": "stdout",
     "output_type": "stream",
     "text": [
      "              open    high     low   close     volume  trade_count\n",
      "hdate                                                             \n",
      "2024-07-07  197.28  200.55  195.93  200.00  117056824      1332045\n",
      "2024-07-14  200.04  201.20  192.86  194.49  175571316      2247090\n",
      "2024-07-21  194.56  196.62  180.11  183.13  216879535      2858323\n",
      "2024-07-28  185.00  189.39  176.80  182.50  202972080      2369676\n",
      "2024-08-04  183.84  190.60  160.55  167.90  326330023      3791941\n",
      "2024-08-11  154.21  168.55  151.61  166.94  272525762      3272189\n"
     ]
    }
   ],
   "source": [
    "# Resample to weekly OHLC data\n",
    "df_weekly = df.resample('W').agg({\n",
    "    'open': 'first',  # First day's open price\n",
    "    'high': 'max',    # Highest price of the week\n",
    "    'low': 'min',     # Lowest price of the week\n",
    "    'close': 'last',   # Last day's close price\n",
    "    'volume': 'sum',   # Last day's close price\n",
    "    'trade_count': 'sum'   # Last day's close price\n",
    "})\n",
    "print(df_weekly)"
   ]
  }
 ],
 "metadata": {
  "kernelspec": {
   "display_name": "Python 3 (ipykernel)",
   "language": "python",
   "name": "python3"
  },
  "language_info": {
   "codemirror_mode": {
    "name": "ipython",
    "version": 3
   },
   "file_extension": ".py",
   "mimetype": "text/x-python",
   "name": "python",
   "nbconvert_exporter": "python",
   "pygments_lexer": "ipython3",
   "version": "3.12.3"
  }
 },
 "nbformat": 4,
 "nbformat_minor": 5
}

{
 "cells": [
  {
   "cell_type": "code",
   "execution_count": 4,
   "id": "1b6cb5ce-d40b-45ca-a524-1c3281c6597d",
   "metadata": {},
   "outputs": [],
   "source": [
    "import pandas"
   ]
  },
  {
   "cell_type": "code",
   "execution_count": 5,
   "id": "85ef5575-efe8-419d-9395-656a74490706",
   "metadata": {},
   "outputs": [],
   "source": [
    "conn_params = {\n",
    "    \"host\": \"127.0.0.1\",  # e.g., \"localhost\"\n",
    "    \"dbname\": \"postgres\",  # e.g., \"mydatabase\"\n",
    "    \"user\": \"postgres\",  # e.g., \"myusername\"\n",
    "    \"password\": \"postgres\",  # e.g., \"mypassword\"\n",
    "    \"port\": \"5432\"  # default port for PostgreSQL\n",
    "}"
   ]
  },
  {
   "cell_type": "code",
   "execution_count": 6,
   "id": "41106f7c-2ec9-46b2-a1ea-2e7063ab1487",
   "metadata": {},
   "outputs": [],
   "source": [
    "import psycopg\n",
    "import pandas as pd"
   ]
  },
  {
   "cell_type": "code",
   "execution_count": 7,
   "id": "7d8cf9cd-c7fe-4108-8eaf-69194bfa5b48",
   "metadata": {},
   "outputs": [],
   "source": [
    "conn = psycopg.connect(**conn_params)"
   ]
  },
  {
   "cell_type": "code",
   "execution_count": 8,
   "id": "e24f2d91-3903-4b15-ac39-8d866a16d8f7",
   "metadata": {},
   "outputs": [],
   "source": [
    "query = \"select hdate, open, high, low, close, volume, trade_count   from turtle.bars_history bh where symbol = 'AMZN' and hdate > '2024-07-01' order by hdate\""
   ]
  },
  {
   "cell_type": "code",
   "execution_count": 9,
   "id": "96deed29-32f6-4a86-a9ef-baa73943a612",
   "metadata": {},
   "outputs": [
    {
     "name": "stdout",
     "output_type": "stream",
     "text": [
      "               open      high       low   close     volume  trade_count\n",
      "hdate                                                                  \n",
      "2024-07-02  197.280  200.4300  195.9300  200.00   45600013       485437\n",
      "2024-07-03  199.940  200.0290  196.7601  197.59   31597926       395364\n",
      "2024-07-05  198.650  200.5500  198.1700  200.00   39858885       451244\n",
      "2024-07-08  200.040  201.2000  197.9600  199.29   34767261       443701\n",
      "2024-07-09  199.400  200.5700  199.0450  199.34   32756736       379497\n",
      "2024-07-10  199.995  200.1100  197.6900  199.79   32883753       414183\n",
      "2024-07-11  200.090  200.2699  192.8600  195.05   44565041       582321\n",
      "2024-07-12  194.800  196.4700  193.8301  194.49   30598525       427388\n",
      "2024-07-15  194.560  196.1900  190.8300  192.72   40683227       571566\n",
      "2024-07-16  195.590  196.6200  192.2400  193.02   33994714       449302\n",
      "2024-07-17  191.350  191.5800  185.9900  187.93   48076139       682876\n",
      "2024-07-18  189.590  189.6800  181.4480  183.75   51043626       672039\n",
      "2024-07-19  181.140  184.9300  180.1100  183.13   43081829       482540\n",
      "2024-07-22  185.000  185.0600  182.4800  182.55   39931923       448824\n",
      "2024-07-23  184.100  189.3900  183.5600  186.41   47537670       489929\n",
      "2024-07-24  183.200  185.4500  180.4100  180.83   41532360       506965\n",
      "2024-07-25  182.910  183.8958  176.8000  179.85   44464163       548308\n",
      "2024-07-26  180.390  183.1900  180.2400  182.50   29505964       375650\n",
      "2024-07-29  183.840  184.7500  182.3800  183.20   33270123       350828\n",
      "2024-07-30  184.720  185.8600  179.3800  181.71   39508574       442154\n",
      "2024-07-31  185.050  187.9400  184.4600  186.98   41667326       474654\n",
      "2024-08-01  189.285  190.6000  181.8700  184.07   70435635       855378\n",
      "2024-08-02  166.750  168.7700  160.5500  167.90  141448365      1668927\n",
      "2024-08-05  154.210  162.9600  151.6100  161.02   83149437      1147517\n",
      "2024-08-06  161.710  165.0800  158.5404  161.93   59950830       674745\n",
      "2024-08-07  166.550  167.5800  161.4300  162.77   48408240       571697\n",
      "2024-08-08  165.165  166.6899  162.5500  165.80   44616206       483376\n",
      "2024-08-09  166.400  168.5500  165.8500  166.94   36401049       394854\n",
      "2024-08-12  168.140  168.5500  166.1101  166.80   30072788       393788\n",
      "2024-08-13  167.810  171.0400  167.1000  170.23   39237915       411872\n",
      "2024-08-14  172.110  172.2800  168.8600  170.10   28843804       376508\n",
      "2024-08-15  174.860  177.9100  173.9900  177.59   51698513       530507\n",
      "2024-08-16  177.040  178.3400  176.2601  177.06   31489175       368932\n",
      "2024-08-19  177.640  178.3000  176.1600  178.22   31129807       358311\n",
      "2024-08-20  177.920  179.0100  177.4308  178.88   26255204       302465\n",
      "2024-08-21  179.920  182.3850  178.8937  180.11   35599120       398151\n",
      "2024-08-22  181.380  181.4700  175.6800  176.13   32047482       402700\n",
      "2024-08-23  177.340  178.9699  175.2400  177.04   29150091       359923\n",
      "2024-08-26  176.700  177.4682  174.3000  175.50   22366236       337930\n",
      "2024-08-27  174.150  174.8900  172.2500  173.12   29841979       377150\n",
      "2024-08-28  173.690  173.6900  168.9200  170.80   29045025       382296\n",
      "2024-08-29  173.220  174.2900  170.8100  172.12   26407815       358875\n",
      "2024-08-30  172.780  178.9000  172.6000  178.50   43429355       398639\n"
     ]
    }
   ],
   "source": [
    "with psycopg.connect(**conn_params) as conn:\n",
    "    with conn.cursor() as cur:\n",
    "        cur.execute(query)\n",
    "        # Fetch all rows\n",
    "        rows = cur.fetchall()\n",
    "        # Get column names from the cursor description\n",
    "        col_names = [desc.name for desc in cur.description]\n",
    "\n",
    "dtypes = {\n",
    "    \"hdate\": \"string\",\n",
    "    \"open\": \"float64\",\n",
    "    \"high\": \"float64\",\n",
    "    \"low\": \"float64\",\n",
    "    \"close\": \"float64\",\n",
    "    \"volume\": \"int64\",\n",
    "    \"trade_count\": \"int64\"\n",
    "}\n",
    "\n",
    "# Create a pandas DataFrame from the fetched data\n",
    "df = pd.DataFrame(rows, columns=col_names).astype(dtypes)\n",
    "df['hdate'] = pd.to_datetime(df['hdate'])\n",
    "df = df.set_index(['hdate'])\n",
    "\n",
    "# Display the DataFrame\n",
    "print(df)"
   ]
  },
  {
   "cell_type": "code",
   "execution_count": 29,
   "id": "00eddbc4-0ac2-4df6-bc12-c5d01110525a",
   "metadata": {},
   "outputs": [
    {
     "name": "stdout",
     "output_type": "stream",
     "text": [
      "<class 'pandas.core.frame.DataFrame'>\n",
      "DatetimeIndex: 28 entries, 2024-07-02 to 2024-08-09\n",
      "Data columns (total 6 columns):\n",
      " #   Column       Non-Null Count  Dtype  \n",
      "---  ------       --------------  -----  \n",
      " 0   open         28 non-null     float64\n",
      " 1   high         28 non-null     float64\n",
      " 2   low          28 non-null     float64\n",
      " 3   close        28 non-null     float64\n",
      " 4   volume       28 non-null     int64  \n",
      " 5   trade_count  28 non-null     int64  \n",
      "dtypes: float64(4), int64(2)\n",
      "memory usage: 1.5 KB\n"
     ]
    }
   ],
   "source": [
    "df.info()"
   ]
  },
  {
   "cell_type": "code",
   "execution_count": 2,
   "id": "ba0b1ac4-f4e9-4f28-9265-a74f9b4f60dc",
   "metadata": {},
   "outputs": [],
   "source": [
    "import pandas_ta as ta"
   ]
  },
  {
   "cell_type": "code",
   "execution_count": 17,
   "id": "96d8f32f-a021-451c-a457-f29b4bfba7cb",
   "metadata": {},
   "outputs": [
    {
     "name": "stdout",
     "output_type": "stream",
     "text": [
      "['/usr/lib/python312.zip', '/usr/lib/python3.12', '/usr/lib/python3.12/lib-dynload', '', '/home/jack/github/turtle-backtest/.venv/lib/python3.12/site-packages']\n"
     ]
    }
   ],
   "source": [
    "import sys\n",
    "print(sys.path)"
   ]
  },
  {
   "cell_type": "code",
   "execution_count": 22,
   "id": "a465611a-f396-477a-8788-a6ac062a2a93",
   "metadata": {},
   "outputs": [],
   "source": [
    "sys.path.append(\"/home/jack/github/turtle-backtest/turtle/data\")"
   ]
  },
  {
   "cell_type": "code",
   "execution_count": 3,
   "id": "8af0d59d-6597-47dc-8f01-45c48e994bc6",
   "metadata": {},
   "outputs": [
    {
     "name": "stdout",
     "output_type": "stream",
     "text": [
      "AKI8X4PEAZE996RQWLJC\n"
     ]
    }
   ],
   "source": [
    "import os\n",
    "os.chdir('/home/jack/github/turtle-backtest')\n",
    "from dotenv import load_dotenv\n",
    "load_dotenv()\n",
    "print(os.getenv(\"ALPACA_API_KEY\"))"
   ]
  },
  {
   "cell_type": "code",
   "execution_count": 5,
   "id": "9f13e78f-8c76-4b52-b21e-1a5a3fc90986",
   "metadata": {},
   "outputs": [
    {
     "name": "stdout",
     "output_type": "stream",
     "text": [
      "data={'AMZN': [{   'close': 177.04,\n",
      "    'high': 178.9699,\n",
      "    'low': 175.24,\n",
      "    'open': 177.34,\n",
      "    'symbol': 'AMZN',\n",
      "    'timestamp': datetime.datetime(2024, 8, 23, 4, 0, tzinfo=TzInfo(UTC)),\n",
      "    'trade_count': 359923.0,\n",
      "    'volume': 29150091.0,\n",
      "    'vwap': 177.089781}, {   'close': 175.5,\n",
      "    'high': 177.4682,\n",
      "    'low': 174.3,\n",
      "    'open': 176.7,\n",
      "    'symbol': 'AMZN',\n",
      "    'timestamp': datetime.datetime(2024, 8, 26, 4, 0, tzinfo=TzInfo(UTC)),\n",
      "    'trade_count': 337930.0,\n",
      "    'volume': 22366236.0,\n",
      "    'vwap': 175.698201}, {   'close': 173.12,\n",
      "    'high': 174.89,\n",
      "    'low': 172.25,\n",
      "    'open': 174.15,\n",
      "    'symbol': 'AMZN',\n",
      "    'timestamp': datetime.datetime(2024, 8, 27, 4, 0, tzinfo=TzInfo(UTC)),\n",
      "    'trade_count': 377150.0,\n",
      "    'volume': 29841979.0,\n",
      "    'vwap': 173.226075}, {   'close': 170.8,\n",
      "    'high': 173.69,\n",
      "    'low': 168.92,\n",
      "    'open': 173.69,\n",
      "    'symbol': 'AMZN',\n",
      "    'timestamp': datetime.datetime(2024, 8, 28, 4, 0, tzinfo=TzInfo(UTC)),\n",
      "    'trade_count': 382296.0,\n",
      "    'volume': 29045025.0,\n",
      "    'vwap': 170.839469}, {   'close': 172.12,\n",
      "    'high': 174.29,\n",
      "    'low': 170.81,\n",
      "    'open': 173.22,\n",
      "    'symbol': 'AMZN',\n",
      "    'timestamp': datetime.datetime(2024, 8, 29, 4, 0, tzinfo=TzInfo(UTC)),\n",
      "    'trade_count': 358875.0,\n",
      "    'volume': 26407815.0,\n",
      "    'vwap': 172.742424}]}\n",
      "<class 'alpaca.data.models.bars.BarSet'>\n",
      "<class 'list'>\n",
      "<class 'float'>\n",
      "<class 'alpaca.data.models.bars.Bar'>\n"
     ]
    }
   ],
   "source": [
    "import os\n",
    "from datetime import datetime\n",
    "from alpaca.data.enums import DataFeed\n",
    "from alpaca.data.timeframe import TimeFrame, TimeFrameUnit\n",
    "from alpaca.data.requests import StockBarsRequest\n",
    "from alpaca.data.historical import StockHistoricalDataClient\n",
    "\n",
    "stock_data_client = StockHistoricalDataClient(os.getenv(\"ALPACA_API_KEY\"), os.getenv(\"ALPACA_SECRET_KEY\"))\n",
    "\n",
    "start_date: datetime = datetime(year=2024, month=8, day=23)\n",
    "end_date: datetime = datetime(year=2024, month=8, day=30)  \n",
    "symbol=\"AMZN\"\n",
    "request = StockBarsRequest(\n",
    "            symbol_or_symbols=symbol,\n",
    "            start=start_date,\n",
    "            end=end_date,\n",
    "            limit=10000,\n",
    "            timeframe=TimeFrame(1, TimeFrameUnit.Day),\n",
    "            feed=DataFeed.SIP,\n",
    "        )\n",
    "data = stock_data_client.get_stock_bars(request_params=request)\n",
    "print(data)\n",
    "print(type(data))\n",
    "print(type(data[symbol]))\n",
    "\n",
    "bars = data[symbol]\n",
    "print(type(bars[0].high))\n",
    "print(type(bars[0]))"
   ]
  },
  {
   "cell_type": "code",
   "execution_count": null,
   "id": "767fc206-d33a-4ae7-a575-0c4ff2db0653",
   "metadata": {},
   "outputs": [],
   "source": []
  }
 ],
 "metadata": {
  "kernelspec": {
   "display_name": "Python 3 (ipykernel)",
   "language": "python",
   "name": "python3"
  },
  "language_info": {
   "codemirror_mode": {
    "name": "ipython",
    "version": 3
   },
   "file_extension": ".py",
   "mimetype": "text/x-python",
   "name": "python",
   "nbconvert_exporter": "python",
   "pygments_lexer": "ipython3",
   "version": "3.12.3"
  }
 },
 "nbformat": 4,
 "nbformat_minor": 5
}

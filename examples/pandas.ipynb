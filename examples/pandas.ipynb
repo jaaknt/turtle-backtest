{
 "cells": [
  {
   "cell_type": "code",
   "execution_count": 1,
   "id": "1b6cb5ce-d40b-45ca-a524-1c3281c6597d",
   "metadata": {},
   "outputs": [],
   "source": [
    "import pandas"
   ]
  },
  {
   "cell_type": "code",
   "execution_count": 25,
   "id": "85ef5575-efe8-419d-9395-656a74490706",
   "metadata": {},
   "outputs": [],
   "source": [
    "conn_params = {\n",
    "    \"host\": \"127.0.0.1\",  # e.g., \"localhost\"\n",
    "    \"dbname\": \"postgres\",  # e.g., \"mydatabase\"\n",
    "    \"user\": \"postgres\",  # e.g., \"myusername\"\n",
    "    \"password\": \"postgres\",  # e.g., \"mypassword\"\n",
    "    \"port\": \"5432\"  # default port for PostgreSQL\n",
    "}"
   ]
  },
  {
   "cell_type": "code",
   "execution_count": 6,
   "id": "41106f7c-2ec9-46b2-a1ea-2e7063ab1487",
   "metadata": {},
   "outputs": [],
   "source": [
    "import psycopg\n",
    "import pandas as pd"
   ]
  },
  {
   "cell_type": "code",
   "execution_count": 26,
   "id": "7d8cf9cd-c7fe-4108-8eaf-69194bfa5b48",
   "metadata": {},
   "outputs": [],
   "source": [
    "conn = psycopg.connect(**conn_params)"
   ]
  },
  {
   "cell_type": "code",
   "execution_count": 27,
   "id": "e24f2d91-3903-4b15-ac39-8d866a16d8f7",
   "metadata": {},
   "outputs": [],
   "source": [
    "query = \"select hdate, open, high, low, close, volume, trade_count   from turtle.bars_history bh where symbol = 'AMZN' and hdate > '2024-07-01' order by hdate\""
   ]
  },
  {
   "cell_type": "code",
   "execution_count": null,
   "id": "96deed29-32f6-4a86-a9ef-baa73943a612",
   "metadata": {},
   "outputs": [],
   "source": [
    "with psycopg.connect(**conn_params) as conn:\n",
    "    with conn.cursor() as cur:\n",
    "        cur.execute(query)\n",
    "        # Fetch all rows\n",
    "        rows = cur.fetchall()\n",
    "        # Get column names from the cursor description\n",
    "        col_names = [desc.name for desc in cur.description]\n",
    "\n",
    "dtypes = {\n",
    "    \"hdate\": \"string\",\n",
    "    \"open\": \"float64\",\n",
    "    \"high\": \"float64\",\n",
    "    \"low\": \"float64\",\n",
    "    \"close\": \"float64\",\n",
    "    \"volume\": \"int64\",\n",
    "    \"trade_count\": \"int64\"\n",
    "}\n",
    "\n",
    "# Create a pandas DataFrame from the fetched data\n",
    "df = pd.DataFrame(rows, columns=col_names).astype(dtypes)\n",
    "df['hdate'] = pd.to_datetime(df['hdate'])\n",
    "df = df.set_index(['hdate'])\n",
    "\n",
    "# Display the DataFrame\n",
    "print(df)"
   ]
  },
  {
   "cell_type": "code",
   "execution_count": 29,
   "id": "00eddbc4-0ac2-4df6-bc12-c5d01110525a",
   "metadata": {},
   "outputs": [
    {
     "name": "stdout",
     "output_type": "stream",
     "text": [
      "<class 'pandas.core.frame.DataFrame'>\n",
      "DatetimeIndex: 28 entries, 2024-07-02 to 2024-08-09\n",
      "Data columns (total 6 columns):\n",
      " #   Column       Non-Null Count  Dtype  \n",
      "---  ------       --------------  -----  \n",
      " 0   open         28 non-null     float64\n",
      " 1   high         28 non-null     float64\n",
      " 2   low          28 non-null     float64\n",
      " 3   close        28 non-null     float64\n",
      " 4   volume       28 non-null     int64  \n",
      " 5   trade_count  28 non-null     int64  \n",
      "dtypes: float64(4), int64(2)\n",
      "memory usage: 1.5 KB\n"
     ]
    }
   ],
   "source": [
    "df.info()"
   ]
  },
  {
   "cell_type": "code",
   "execution_count": 2,
   "id": "ba0b1ac4-f4e9-4f28-9265-a74f9b4f60dc",
   "metadata": {},
   "outputs": [],
   "source": [
    "import pandas_ta as ta"
   ]
  },
  {
   "cell_type": "code",
   "execution_count": 3,
   "id": "9facd716",
   "metadata": {},
   "outputs": [],
   "source": []
  },
  {
   "cell_type": "code",
   "execution_count": 10,
   "id": "7ff1e9b7-4026-44d6-8625-874834ebb034",
   "metadata": {},
   "outputs": [
    {
     "ename": "ImportError",
     "evalue": "attempted relative import with no known parent package",
     "output_type": "error",
     "traceback": [
      "\u001b[0;31m---------------------------------------------------------------------------\u001b[0m",
      "\u001b[0;31mImportError\u001b[0m                               Traceback (most recent call last)",
      "Cell \u001b[0;32mIn[10], line 2\u001b[0m\n\u001b[1;32m      1\u001b[0m \u001b[38;5;28;01mfrom\u001b[39;00m \u001b[38;5;21;01mdatetime\u001b[39;00m \u001b[38;5;28;01mimport\u001b[39;00m datetime, timedelta\n\u001b[0;32m----> 2\u001b[0m \u001b[38;5;28;01mfrom\u001b[39;00m \u001b[38;5;21;01m.\u001b[39;00m\u001b[38;5;21;01m.\u001b[39;00m\u001b[38;5;21;01mturtle\u001b[39;00m\u001b[38;5;21;01m.\u001b[39;00m\u001b[38;5;21;01mdata\u001b[39;00m \u001b[38;5;28;01mimport\u001b[39;00m bars_history, symbol\n\u001b[1;32m      3\u001b[0m end_date \u001b[38;5;241m=\u001b[39m datetime(year\u001b[38;5;241m=\u001b[39m\u001b[38;5;241m2024\u001b[39m, month\u001b[38;5;241m=\u001b[39m\u001b[38;5;241m8\u001b[39m, day\u001b[38;5;241m=\u001b[39m\u001b[38;5;241m19\u001b[39m)\u001b[38;5;241m.\u001b[39mdate()\n\u001b[1;32m      4\u001b[0m PERIOD_LENGTH: \u001b[38;5;28mint\u001b[39m \u001b[38;5;241m=\u001b[39m \u001b[38;5;241m360\u001b[39m\n",
      "\u001b[0;31mImportError\u001b[0m: attempted relative import with no known parent package"
     ]
    }
   ],
   "source": [
    "from datetime import datetime, timedelta\n",
    "from ..turtle.data import bars_history, symbol\n",
    "end_date = datetime(year=2024, month=8, day=19).date()\n",
    "PERIOD_LENGTH: int = 360\n",
    "df_daily = bars_history.get_ticker_history(\n",
    "        conn,\n",
    "        ticker,\n",
    "        end_date - timedelta(days=2 * PERIOD_LENGTH),\n",
    "        end_date,\n",
    "        \"day\",\n",
    "    )"
   ]
  },
  {
   "cell_type": "code",
   "execution_count": 13,
   "id": "96d8f32f-a021-451c-a457-f29b4bfba7cb",
   "metadata": {},
   "outputs": [
    {
     "name": "stdout",
     "output_type": "stream",
     "text": [
      "['/usr/lib/python312.zip', '/usr/lib/python3.12', '/usr/lib/python3.12/lib-dynload', '', '/home/jack/github/turtle-backtest/.venv/lib/python3.12/site-packages', '/home/jack/github/turtle-backtest/.venv/lib/python3.12/site-packages/setuptools/_vendor']\n"
     ]
    }
   ],
   "source": [
    "import sys\n",
    "print(sys.path)"
   ]
  },
  {
   "cell_type": "code",
   "execution_count": 15,
   "id": "a465611a-f396-477a-8788-a6ac062a2a93",
   "metadata": {},
   "outputs": [
    {
     "ename": "ModuleNotFoundError",
     "evalue": "No module named 'turtle.data'; 'turtle' is not a package",
     "output_type": "error",
     "traceback": [
      "\u001b[0;31m---------------------------------------------------------------------------\u001b[0m",
      "\u001b[0;31mModuleNotFoundError\u001b[0m                       Traceback (most recent call last)",
      "Cell \u001b[0;32mIn[15], line 2\u001b[0m\n\u001b[1;32m      1\u001b[0m sys\u001b[38;5;241m.\u001b[39mpath\u001b[38;5;241m.\u001b[39mappend(\u001b[38;5;124m\"\u001b[39m\u001b[38;5;124m/home/jack/github/turtle-backtest/turtle/data\u001b[39m\u001b[38;5;124m\"\u001b[39m)\n\u001b[0;32m----> 2\u001b[0m \u001b[38;5;28;01mimport\u001b[39;00m \u001b[38;5;21;01mbars_history\u001b[39;00m\u001b[38;5;241m,\u001b[39m \u001b[38;5;21;01msymbol\u001b[39;00m\n",
      "File \u001b[0;32m~/github/turtle-backtest/turtle/data/bars_history.py:13\u001b[0m\n\u001b[1;32m     10\u001b[0m \u001b[38;5;28;01mfrom\u001b[39;00m \u001b[38;5;21;01malpaca\u001b[39;00m\u001b[38;5;21;01m.\u001b[39;00m\u001b[38;5;21;01mdata\u001b[39;00m\u001b[38;5;21;01m.\u001b[39;00m\u001b[38;5;21;01mrequests\u001b[39;00m \u001b[38;5;28;01mimport\u001b[39;00m StockBarsRequest\n\u001b[1;32m     11\u001b[0m \u001b[38;5;28;01mfrom\u001b[39;00m \u001b[38;5;21;01malpaca\u001b[39;00m\u001b[38;5;21;01m.\u001b[39;00m\u001b[38;5;21;01mdata\u001b[39;00m\u001b[38;5;21;01m.\u001b[39;00m\u001b[38;5;21;01mhistorical\u001b[39;00m \u001b[38;5;28;01mimport\u001b[39;00m StockHistoricalDataClient\n\u001b[0;32m---> 13\u001b[0m \u001b[38;5;28;01mfrom\u001b[39;00m \u001b[38;5;21;01mturtle\u001b[39;00m\u001b[38;5;21;01m.\u001b[39;00m\u001b[38;5;21;01mdata\u001b[39;00m \u001b[38;5;28;01mimport\u001b[39;00m symbol\n\u001b[1;32m     15\u001b[0m logger \u001b[38;5;241m=\u001b[39m logging\u001b[38;5;241m.\u001b[39mgetLogger(\u001b[38;5;124m\"\u001b[39m\u001b[38;5;124m__name__\u001b[39m\u001b[38;5;124m\"\u001b[39m)\n\u001b[1;32m     18\u001b[0m \u001b[38;5;28;01mdef\u001b[39;00m \u001b[38;5;21mmap_alpaca_bars_history\u001b[39m(row) \u001b[38;5;241m-\u001b[39m\u001b[38;5;241m>\u001b[39m \u001b[38;5;28mdict\u001b[39m:\n",
      "\u001b[0;31mModuleNotFoundError\u001b[0m: No module named 'turtle.data'; 'turtle' is not a package"
     ]
    }
   ],
   "source": [
    "sys.path.append(\"/home/jack/github/turtle-backtest/turtle/data\")\n",
    "import bars_history, symbol"
   ]
  },
  {
   "cell_type": "code",
   "execution_count": null,
   "id": "8af0d59d-6597-47dc-8f01-45c48e994bc6",
   "metadata": {},
   "outputs": [],
   "source": []
  }
 ],
 "metadata": {
  "kernelspec": {
   "display_name": "Python 3 (ipykernel)",
   "language": "python",
   "name": "python3"
  },
  "language_info": {
   "codemirror_mode": {
    "name": "ipython",
    "version": 3
   },
   "file_extension": ".py",
   "mimetype": "text/x-python",
   "name": "python",
   "nbconvert_exporter": "python",
   "pygments_lexer": "ipython3",
   "version": "3.12.3"
  }
 },
 "nbformat": 4,
 "nbformat_minor": 5
}

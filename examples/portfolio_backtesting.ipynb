{
 "cells": [
  {
   "cell_type": "markdown",
   "metadata": {},
   "source": [
    "# Portfolio Backtesting with Turtle Trading System\n",
    "\n",
    "This notebook demonstrates the new portfolio backtesting capabilities that allow you to:\n",
    "\n",
    "- **Fixed Capital Management**: Start with $10,000 and maintain position limits\n",
    "- **Signal Ranking**: Buy the top 10 ranked stocks according to strategy signals\n",
    "- **Portfolio Rebalancing**: Hold stocks until exit signals, then buy next best signals\n",
    "- **Performance Analytics**: Comprehensive analysis using quantstats-style metrics\n",
    "\n",
    "## Key Features\n",
    "- Multi-stock portfolio management\n",
    "- Signal-based stock selection with ranking\n",
    "- Configurable position sizing and limits\n",
    "- Multiple exit strategies (ATR, EMA, MACD, Profit/Loss)\n",
    "- Benchmark comparison (SPY, QQQ)\n",
    "- Risk analytics and performance metrics"
   ]
  },
  {
   "cell_type": "code",
   "execution_count": null,
   "metadata": {},
   "outputs": [],
   "source": [
    "import sys\n",
    "sys.path.insert(0, \"/home/jack/github/turtle-backtest\")\n",
    "print(sys.path)\n",
    "\n",
    "from datetime import datetime\n",
    "import pandas as pd\n",
    "import logging\n",
    "\n",
    "# Configure logging for better debugging\n",
    "logging.basicConfig(level=logging.INFO)\n",
    "\n",
    "from turtle.service.data_update_service import DataUpdateService\n",
    "from turtle.common.enums import TimeFrameUnit\n",
    "from turtle.portfolio import PortfolioBacktester, PortfolioAnalytics\n",
    "from turtle.exit.atr import ATRExitStrategy\n",
    "\n",
    "print(\"✅ Imports successful\")"
   ]
  },
  {
   "cell_type": "markdown",
   "metadata": {},
   "source": [
    "## Setup and Configuration"
   ]
  },
  {
   "cell_type": "code",
   "execution_count": null,
   "metadata": {},
   "outputs": [],
   "source": [
    "# Initialize data service\n",
    "data_service = DataUpdateService(time_frame_unit=TimeFrameUnit.DAY)\n",
    "\n",
    "# Backtest parameters\n",
    "START_DATE = datetime(2023, 1, 1)\n",
    "END_DATE = datetime(2024, 8, 30)\n",
    "INITIAL_CAPITAL = 10000.0\n",
    "MAX_POSITIONS = 10\n",
    "POSITION_SIZE = 1000.0  # $1000 per position\n",
    "MIN_SIGNAL_RANKING = 70  # Only consider signals ranked 70 or above\n",
    "\n",
    "print(\"🎯 Backtest Configuration:\")\n",
    "print(f\"   Period: {START_DATE.date()} to {END_DATE.date()}\")\n",
    "print(f\"   Capital: ${INITIAL_CAPITAL:,.0f}\")\n",
    "print(f\"   Max Positions: {MAX_POSITIONS}\")\n",
    "print(f\"   Position Size: ${POSITION_SIZE:,.0f}\")\n",
    "print(f\"   Min Signal Ranking: {MIN_SIGNAL_RANKING}\")"
   ]
  },
  {
   "cell_type": "markdown",
   "metadata": {},
   "source": [
    "## Define Stock Universe\n",
    "\n",
    "You can use predefined symbol groups or create custom universes:"
   ]
  },
  {
   "cell_type": "code",
   "execution_count": null,
   "metadata": {},
   "outputs": [],
   "source": [
    "# Option 1: Use predefined symbol groups\n",
    "# symbol_group = data_service.symbol_group_repo.get_symbol_group_list('NAS100')\n",
    "# universe = [x.symbol for x in symbol_group]\n",
    "\n",
    "# Option 2: Custom universe for this example\n",
    "universe = [\n",
    "    # Technology\n",
    "    'AAPL', 'MSFT', 'GOOGL', 'AMZN', 'META', 'NVDA', 'AVGO', 'NFLX', 'AMD', 'INTC',\n",
    "    'CRM', 'ADBE', 'PYPL', 'ORCL', 'CSCO', 'TXN', 'QCOM', 'INTU', 'AMAT', 'ADI',\n",
    "    # Healthcare & Biotech\n",
    "    'UNH', 'JNJ', 'PFE', 'AMGN', 'GILD', 'MRNA', 'REGN', 'VRTX', 'BIIB', 'ISRG',\n",
    "    # Consumer & Retail\n",
    "    'TSLA', 'HD', 'MCD', 'NKE', 'SBUX', 'TGT', 'COST', 'WMT', 'DIS', 'NFLX',\n",
    "    # Financial & Others\n",
    "    'V', 'MA', 'JPM', 'BAC', 'GS', 'AXP', 'BRK.B', 'WFC', 'C', 'MS'\n",
    "]\n",
    "\n",
    "print(f\"📊 Stock Universe: {len(universe)} stocks\")\n",
    "print(f\"   Sample: {', '.join(universe[:10])}...\")"
   ]
  },
  {
   "cell_type": "markdown",
   "metadata": {},
   "source": [
    "## Choose Trading Strategy and Exit Strategy\n",
    "\n",
    "Available strategies:\n",
    "- **Trading Strategies**: Darvas Box, Mars, Momentum\n",
    "- **Exit Strategies**: ATR, EMA, MACD, Profit/Loss"
   ]
  },
  {
   "cell_type": "code",
   "execution_count": null,
   "metadata": {},
   "outputs": [],
   "source": [
    "# Choose trading strategy\n",
    "# trading_strategy = data_service.darvas_box_strategy  # Trend-following\n",
    "# trading_strategy = data_service.mars_strategy        # Mars momentum (@marsrides)\n",
    "trading_strategy = data_service.momentum_strategy      # Traditional momentum\n",
    "\n",
    "# Choose exit strategy\n",
    "exit_strategy = ATRExitStrategy(\n",
    "    bars_history=data_service.bars_history,\n",
    "    time_frame_unit=TimeFrameUnit.DAY,\n",
    ")\n",
    "\n",
    "# Alternative exit strategies:\n",
    "# exit_strategy = ProfitLossExitStrategy(\n",
    "#     bars_history=data_service.bars_history,\n",
    "#     time_frame_unit=TimeFrameUnit.DAY,\n",
    "# )\n",
    "#\n",
    "# exit_strategy = EMAExitStrategy(\n",
    "#     bars_history=data_service.bars_history,\n",
    "#     time_frame_unit=TimeFrameUnit.DAY,\n",
    "# )\n",
    "\n",
    "print(\"🚀 Strategy Configuration:\")\n",
    "print(f\"   Trading Strategy: {trading_strategy.__class__.__name__}\")\n",
    "print(f\"   Exit Strategy: {exit_strategy.__class__.__name__}\")"
   ]
  },
  {
   "cell_type": "markdown",
   "metadata": {},
   "source": [
    "## Initialize Portfolio Backtester"
   ]
  },
  {
   "cell_type": "code",
   "execution_count": null,
   "metadata": {},
   "outputs": [],
   "source": [
    "# Create portfolio backtester\n",
    "backtester = PortfolioBacktester(\n",
    "    trading_strategy=trading_strategy,\n",
    "    exit_strategy=exit_strategy,\n",
    "    bars_history=data_service.bars_history,\n",
    "    initial_capital=INITIAL_CAPITAL,\n",
    "    max_positions=MAX_POSITIONS,\n",
    "    position_size=POSITION_SIZE,\n",
    "    min_signal_ranking=MIN_SIGNAL_RANKING,\n",
    "    time_frame_unit=TimeFrameUnit.DAY,\n",
    ")\n",
    "\n",
    "print(\"✅ Portfolio backtester initialized\")"
   ]
  },
  {
   "cell_type": "markdown",
   "metadata": {},
   "source": [
    "## Run Portfolio Backtest\n",
    "\n",
    "This will:\n",
    "1. Generate daily signals across the universe\n",
    "2. Rank signals and select top performers\n",
    "3. Manage position entries and exits\n",
    "4. Track portfolio performance daily\n",
    "5. Calculate comprehensive analytics"
   ]
  },
  {
   "cell_type": "code",
   "execution_count": null,
   "metadata": {},
   "outputs": [],
   "source": [
    "print(\"🔄 Running portfolio backtest...\")\n",
    "print(\"This may take a few minutes depending on universe size and date range.\")\n",
    "\n",
    "# Run the backtest\n",
    "results = backtester.run_backtest(\n",
    "    start_date=START_DATE,\n",
    "    end_date=END_DATE,\n",
    "    universe=universe,\n",
    "    benchmark_tickers=['SPY', 'QQQ']\n",
    ")\n",
    "\n",
    "print(\"✅ Backtest completed!\")"
   ]
  },
  {
   "cell_type": "markdown",
   "metadata": {},
   "source": [
    "## Performance Results"
   ]
  },
  {
   "cell_type": "code",
   "execution_count": null,
   "metadata": {},
   "outputs": [],
   "source": [
    "# Display comprehensive performance summary\n",
    "analytics = PortfolioAnalytics()\n",
    "analytics.print_performance_summary(results)"
   ]
  },
  {
   "cell_type": "markdown",
   "metadata": {},
   "source": [
    "## Detailed Analysis"
   ]
  },
  {
   "cell_type": "code",
   "execution_count": null,
   "metadata": {},
   "outputs": [],
   "source": [
    "# Create DataFrame from closed positions for analysis\n",
    "if results.closed_positions:\n",
    "    trades_df = pd.DataFrame([\n",
    "        {\n",
    "            'ticker': pos.ticker,\n",
    "            'entry_date': pos.entry_date,\n",
    "            'exit_date': pos.exit_date,\n",
    "            'entry_price': pos.entry_price,\n",
    "            'exit_price': pos.exit_price,\n",
    "            'shares': pos.shares,\n",
    "            'realized_pnl': pos.realized_pnl,\n",
    "            'realized_pnl_pct': pos.realized_pnl_pct,\n",
    "            'holding_period_days': pos.holding_period_days,\n",
    "            'exit_reason': pos.exit_reason,\n",
    "            'entry_signal_ranking': pos.entry_signal_ranking\n",
    "        }\n",
    "        for pos in results.closed_positions\n",
    "    ])\n",
    "\n",
    "    print(f\"📈 Trade Analysis: {len(trades_df)} completed trades\")\n",
    "    print(\"\\nTrade Summary:\")\n",
    "    print(trades_df[['ticker', 'realized_pnl', 'realized_pnl_pct', 'holding_period_days']].describe())\n",
    "else:\n",
    "    print(\"⚠️  No completed trades found\")\n",
    "    trades_df = pd.DataFrame()"
   ]
  },
  {
   "cell_type": "code",
   "execution_count": null,
   "metadata": {},
   "outputs": [],
   "source": [
    "# Performance by ticker\n",
    "if not trades_df.empty:\n",
    "    ticker_performance = trades_df.groupby('ticker').agg({\n",
    "        'realized_pnl': ['count', 'sum', 'mean'],\n",
    "        'realized_pnl_pct': 'mean',\n",
    "        'holding_period_days': 'mean'\n",
    "    }).round(2)\n",
    "\n",
    "    ticker_performance.columns = ['Trade_Count', 'Total_PnL', 'Avg_PnL', 'Avg_Return_Pct', 'Avg_Days']\n",
    "    ticker_performance = ticker_performance.sort_values('Total_PnL', ascending=False)\n",
    "\n",
    "    print(\"\\n📊 Performance by Ticker (Top 10):\")\n",
    "    print(ticker_performance.head(10))"
   ]
  },
  {
   "cell_type": "code",
   "execution_count": null,
   "metadata": {},
   "outputs": [],
   "source": [
    "# Daily portfolio value chart\n",
    "if not results.daily_values.empty:\n",
    "    import matplotlib.pyplot as plt\n",
    "\n",
    "    plt.figure(figsize=(12, 6))\n",
    "    plt.plot(results.daily_values.index, results.daily_values.values, label='Portfolio Value', linewidth=2)\n",
    "    plt.axhline(y=INITIAL_CAPITAL, color='gray', linestyle='--', alpha=0.7, label=f'Initial Capital (${INITIAL_CAPITAL:,.0f})')\n",
    "    plt.title('Portfolio Value Over Time')\n",
    "    plt.xlabel('Date')\n",
    "    plt.ylabel('Portfolio Value ($)')\n",
    "    plt.legend()\n",
    "    plt.grid(True, alpha=0.3)\n",
    "    plt.xticks(rotation=45)\n",
    "    plt.tight_layout()\n",
    "    plt.show()\n",
    "\n",
    "    # Daily returns distribution\n",
    "    plt.figure(figsize=(10, 6))\n",
    "    plt.hist(results.daily_returns.values, bins=50, alpha=0.7, edgecolor='black')\n",
    "    plt.axvline(x=results.daily_returns.mean(), color='red', linestyle='--',\n",
    "                label=f'Mean: {results.daily_returns.mean():.3f}%')\n",
    "    plt.title('Daily Returns Distribution')\n",
    "    plt.xlabel('Daily Return (%)')\n",
    "    plt.ylabel('Frequency')\n",
    "    plt.legend()\n",
    "    plt.grid(True, alpha=0.3)\n",
    "    plt.tight_layout()\n",
    "    plt.show()\n",
    "else:\n",
    "    print(\"⚠️  No daily value data available for charting\")"
   ]
  },
  {
   "cell_type": "markdown",
   "metadata": {},
   "source": [
    "## Trade Analysis Deep Dive"
   ]
  },
  {
   "cell_type": "code",
   "execution_count": null,
   "metadata": {},
   "outputs": [],
   "source": [
    "# Best and worst trades\n",
    "if not trades_df.empty:\n",
    "    print(\"🏆 Top 5 Best Trades:\")\n",
    "    best_trades = trades_df.nlargest(5, 'realized_pnl_pct')[['ticker', 'entry_date', 'exit_date', 'realized_pnl', 'realized_pnl_pct', 'holding_period_days']]\n",
    "    print(best_trades.to_string(index=False))\n",
    "\n",
    "    print(\"\\n💸 Top 5 Worst Trades:\")\n",
    "    worst_trades = trades_df.nsmallest(5, 'realized_pnl_pct')[['ticker', 'entry_date', 'exit_date', 'realized_pnl', 'realized_pnl_pct', 'holding_period_days']]\n",
    "    print(worst_trades.to_string(index=False))"
   ]
  },
  {
   "cell_type": "code",
   "execution_count": null,
   "metadata": {},
   "outputs": [],
   "source": [
    "# Exit reason analysis\n",
    "if not trades_df.empty:\n",
    "    print(\"\\n🚪 Exit Reason Analysis:\")\n",
    "    exit_analysis = trades_df.groupby('exit_reason').agg({\n",
    "        'realized_pnl': ['count', 'mean'],\n",
    "        'realized_pnl_pct': 'mean',\n",
    "        'holding_period_days': 'mean'\n",
    "    }).round(2)\n",
    "\n",
    "    exit_analysis.columns = ['Count', 'Avg_PnL_$', 'Avg_Return_%', 'Avg_Days']\n",
    "    print(exit_analysis)"
   ]
  },
  {
   "cell_type": "markdown",
   "metadata": {},
   "source": [
    "## Risk Analysis"
   ]
  },
  {
   "cell_type": "code",
   "execution_count": null,
   "metadata": {},
   "outputs": [],
   "source": [
    "# Risk metrics breakdown\n",
    "print(\"⚠️  Risk Analysis:\")\n",
    "print(f\"   Maximum Drawdown: {results.max_drawdown_pct:.2f}%\")\n",
    "print(f\"   Sharpe Ratio: {results.sharpe_ratio:.2f}\")\n",
    "print(f\"   Volatility (Annualized): {results.volatility:.2f}%\")\n",
    "\n",
    "if results.benchmark_returns:\n",
    "    print(\"\\n📊 Benchmark Comparison:\")\n",
    "    portfolio_return = results.total_return_pct\n",
    "    for ticker, benchmark_return in results.benchmark_returns.items():\n",
    "        outperformance = portfolio_return - benchmark_return\n",
    "        print(f\"   {ticker}: {benchmark_return:.2f}% (Portfolio +{outperformance:.2f}%)\")"
   ]
  },
  {
   "cell_type": "markdown",
   "metadata": {},
   "source": "## Experiment with Different Configurations\n\nTry modifying these parameters and re-running the backtest:\n\n```python\n# Different position limits\nMAX_POSITIONS = 5   # More concentrated portfolio\nMAX_POSITIONS = 20  # More diversified portfolio\n\n# Different signal thresholds\nMIN_SIGNAL_RANKING = 80  # More selective (higher quality signals)\nMIN_SIGNAL_RANKING = 60  # Less selective (more opportunities)\n\n# Different position sizes\nPOSITION_SIZE = 500   # Smaller positions, more diversification\nPOSITION_SIZE = 2000  # Larger positions, more concentration\n\n# Different time periods\nSTART_DATE = datetime(2022, 1, 1)  # Different market conditions\nEND_DATE = datetime(2023, 12, 31)\n```\n\n## Enhanced Portfolio Analytics Features\n\nThis portfolio backtesting system now includes:\n\n### ✅ **Comprehensive Performance Metrics**\n- Traditional metrics: Sharpe, Sortino, Calmar ratios\n- Advanced risk metrics: VaR, CVaR, Ulcer Index\n- Distribution analysis: Skewness, Kurtosis, Tail Ratio  \n- Trade statistics: Profit Factor, Gain-to-Pain Ratio\n\n### ✅ **Professional Reporting**\n- HTML tearsheet reports with quantstats integration\n- Interactive charts and visualizations\n- Monthly returns heatmaps\n- Benchmark comparison analysis\n\n### ✅ **Risk Management Analytics**\n- Maximum drawdown analysis with recovery periods\n- Rolling risk metrics and volatility analysis\n- Value-at-Risk and Conditional Value-at-Risk calculations\n- Comprehensive distribution and tail risk analysis\n\n## Next Steps\n\n1. **Optimize Parameters**: Use quantstats metrics to tune strategy parameters\n2. **Benchmark Analysis**: Compare against different benchmarks (SPY, QQQ, sector ETFs)\n3. **Sector Analysis**: Add sector-based diversification constraints\n4. **Walk-Forward Testing**: Implement out-of-sample validation\n5. **Risk Management**: Add position sizing based on volatility (ATR-based)\n6. **Report Automation**: Generate regular tearsheet reports for strategy monitoring\n\nThis enhanced portfolio backtesting system provides institutional-quality analytics for systematic trading strategy development and validation."
  },
  {
   "cell_type": "code",
   "execution_count": null,
   "metadata": {},
   "outputs": [],
   "source": [
    "# Generate comprehensive QuantStats HTML report\n",
    "output_file = \"portfolio_tearsheet.html\"\n",
    "title = f\"Portfolio Backtest Report - {START_DATE.strftime('%Y-%m-%d')} to {END_DATE.strftime('%Y-%m-%d')}\"\n",
    "\n",
    "html_report = analytics.create_quantstats_report(\n",
    "    results=results,\n",
    "    benchmark_ticker=\"SPY\",\n",
    "    output_file=output_file,\n",
    "    title=title\n",
    ")\n",
    "\n",
    "if html_report:\n",
    "    print(f\"✅ QuantStats HTML report generated: {output_file}\")\n",
    "    print(\"   This comprehensive report includes:\")\n",
    "    print(\"   📈 Equity curve with drawdown visualization\")\n",
    "    print(\"   📊 Monthly returns heatmap\")\n",
    "    print(\"   📈 Return distribution analysis\")\n",
    "    print(\"   📉 Rolling statistics and risk metrics\")\n",
    "    print(\"   🎯 Benchmark comparison analysis\")\n",
    "    print(\"   📋 Complete performance metrics table\")\n",
    "    print(f\"   🌐 Open {output_file} in your web browser to view the full report\")\n",
    "else:\n",
    "    print(\"⚠️  Could not generate QuantStats report\")"
   ]
  },
  {
   "cell_type": "markdown",
   "metadata": {},
   "source": "## Generate QuantStats HTML Report\n\nCreate a comprehensive HTML tearsheet report with professional-grade analytics and visualizations:"
  },
  {
   "cell_type": "code",
   "execution_count": null,
   "metadata": {},
   "outputs": [],
   "source": [
    "# Get comprehensive quantstats metrics\n",
    "qs_metrics = analytics.get_quantstats_metrics(results)\n",
    "\n",
    "if qs_metrics:\n",
    "    print(\"📊 QuantStats Comprehensive Metrics:\")\n",
    "    print(f\"   CAGR: {qs_metrics['cagr']:.2f}%\")\n",
    "    print(f\"   Volatility: {qs_metrics['volatility']:.2f}%\")\n",
    "    print(f\"   Sharpe Ratio: {qs_metrics['sharpe_ratio']:.3f}\")\n",
    "    print(f\"   Sortino Ratio: {qs_metrics['sortino_ratio']:.3f}\")\n",
    "    print(f\"   Calmar Ratio: {qs_metrics['calmar_ratio']:.3f}\")\n",
    "    print(f\"   Max Drawdown: {qs_metrics['max_drawdown']:.2f}%\")\n",
    "    print(f\"   Value at Risk (95%): {qs_metrics['value_at_risk']:.2f}%\")\n",
    "    print(f\"   Conditional VaR (95%): {qs_metrics['conditional_value_at_risk']:.2f}%\")\n",
    "    print(f\"   Win Rate: {qs_metrics['win_rate']:.1f}%\")\n",
    "    print(f\"   Profit Factor: {qs_metrics['profit_factor']:.2f}\")\n",
    "    print(f\"   Gain-to-Pain Ratio: {qs_metrics['gain_to_pain_ratio']:.2f}\")\n",
    "    print(f\"   Tail Ratio: {qs_metrics['tail_ratio']:.2f}\")\n",
    "    print(f\"   Skewness: {qs_metrics['skewness']:.3f}\")\n",
    "    print(f\"   Kurtosis: {qs_metrics['kurtosis']:.3f}\")\n",
    "    print(f\"   Recovery Factor: {qs_metrics['recovery_factor']:.2f}\")\n",
    "    print(f\"   Ulcer Index: {qs_metrics['ulcer_index']:.3f}\")\n",
    "\n",
    "    if 'best_month' in qs_metrics:\n",
    "        print(f\"   Best Month: {qs_metrics['best_month']:.2f}%\")\n",
    "        print(f\"   Worst Month: {qs_metrics['worst_month']:.2f}%\")\n",
    "        print(f\"   Average Win: {qs_metrics['avg_win']:.2f}%\")\n",
    "        print(f\"   Average Loss: {qs_metrics['avg_loss']:.2f}%\")\n",
    "else:\n",
    "    print(\"⚠️  QuantStats metrics not available (install quantstats package)\")"
   ]
  },
  {
   "cell_type": "markdown",
   "metadata": {},
   "source": "## QuantStats Enhanced Analytics\n\nThe portfolio backtesting system now includes comprehensive quantstats integration for institutional-grade performance analysis."
  }
 ],
 "metadata": {
  "kernelspec": {
   "display_name": "Python 3",
   "language": "python",
   "name": "python3"
  },
  "language_info": {
   "codemirror_mode": {
    "name": "ipython",
    "version": 3
   },
   "file_extension": ".py",
   "mimetype": "text/x-python",
   "name": "python",
   "nbconvert_exporter": "python",
   "pygments_lexer": "ipython3",
   "version": "3.12.0"
  }
 },
 "nbformat": 4,
 "nbformat_minor": 4
}
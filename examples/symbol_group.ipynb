{
 "cells": [
  {
   "cell_type": "code",
   "execution_count": 2,
   "metadata": {},
   "outputs": [
    {
     "name": "stdout",
     "output_type": "stream",
     "text": [
      "['/home/jack/github/turtle-backtest', '/usr/lib/python312.zip', '/usr/lib/python3.12', '/usr/lib/python3.12/lib-dynload', '', '/home/jack/github/turtle-backtest/.venv/lib/python3.12/site-packages', '/home/jack/github/turtle-backtest']\n"
     ]
    }
   ],
   "source": [
    "import sys\n",
    "sys.path.insert(0, \"/home/jack/github/turtle-backtest\")\n",
    "print(sys.path)"
   ]
  },
  {
   "cell_type": "code",
   "execution_count": 3,
   "metadata": {},
   "outputs": [],
   "source": [
    "# from psycopg_pool import ConnectionPool\n",
    "from datetime import datetime\n",
    "# from turtle.data.models import SymbolGroup\n",
    "# from turtle.data.symbol_group import SymbolGroupRepo\n",
    "from turtle.service.data_update import DataUpdate\n",
    "from turtle.common.enums import TimeFrameUnit\n",
    "\n",
    "data_updater = DataUpdate()\n",
    "nas100 = data_updater.symbol_group_repo.get_symbol_group_list('NAS100')\n"
   ]
  },
  {
   "cell_type": "code",
   "execution_count": 3,
   "metadata": {},
   "outputs": [],
   "source": [
    "# NASDAQ 100 group\n",
    "\n",
    "import pandas as pd\n",
    "# from turtle.data.symbol_group import SymbolGroupRepo\n",
    "\n",
    "# URL to get NASDAQ company list\n",
    "url = 'https://en.wikipedia.org/wiki/NASDAQ-100'\n",
    "\n",
    "# Use pandas to read the table from the Wikipedia page\n",
    "nasdaq_table = pd.read_html(url, match='Company')[0]\n",
    "\n",
    "# Extract the 'Ticker' column (assuming it's in the first table)\n",
    "nasdaq_symbols = nasdaq_table['Ticker'].tolist()\n",
    "# print(nasdaq_symbols)\n",
    "\n",
    "for symbol in nasdaq_symbols:\n",
    "    data_updater.symbol_group_repo.update_symbol_group('NAS100', symbol)"
   ]
  },
  {
   "cell_type": "code",
   "execution_count": null,
   "metadata": {},
   "outputs": [],
   "source": [
    "symbol_group_list = data_updater.symbol_group_repo.get_symbol_group_list('NAS100')\n",
    "for item in symbol_group_list:\n",
    "    print(item.symbol)"
   ]
  },
  {
   "cell_type": "code",
   "execution_count": null,
   "metadata": {},
   "outputs": [],
   "source": [
    "data_updater = DataUpdate(time_frame_unit=TimeFrameUnit.DAY)\n",
    "\n",
    "start_date: datetime = datetime(year=2022, month=1, day=1)\n",
    "end_date: datetime = datetime(year=2022, month=12, day=31) \n",
    "\n",
    "momentum_stock_list = data_updater.get_buy_signals(start_date, end_date)\n",
    "\n",
    "top_50 = sorted(momentum_stock_list, key=lambda x: x[1], reverse=True)[:50]\n",
    "for symbol in top_50:\n",
    "    data_updater.symbol_group_repo.update_symbol_group('DARVAS50', symbol[0], symbol[1])\n",
    "print(top_50)\n",
    "\n",
    "top_100 = sorted(momentum_stock_list, key=lambda x: x[1], reverse=True)[:100]\n",
    "for symbol in top_100:\n",
    "    data_updater.symbol_group_repo.update_symbol_group('DARVAS100', symbol[0], symbol[1])\n",
    "print(top_100)\n",
    "\n",
    "top_200 = sorted(momentum_stock_list, key=lambda x: x[1], reverse=True)[:200]\n",
    "for symbol in top_200:\n",
    "    data_updater.symbol_group_repo.update_symbol_group('DARVAS200', symbol[0], symbol[1])\n",
    "print(top_200)    \n",
    "\n",
    "top_500 = sorted(momentum_stock_list, key=lambda x: x[1], reverse=True)[:500]\n",
    "for symbol in top_500:\n",
    "    data_updater.symbol_group_repo.update_symbol_group('DARVAS500', symbol[0], symbol[1])\n",
    "print(top_500)    \n"
   ]
  }
 ],
 "metadata": {
  "kernelspec": {
   "display_name": "Python 3 (ipykernel)",
   "language": "python",
   "name": "python3"
  },
  "language_info": {
   "codemirror_mode": {
    "name": "ipython",
    "version": 3
   },
   "file_extension": ".py",
   "mimetype": "text/x-python",
   "name": "python",
   "nbconvert_exporter": "python",
   "pygments_lexer": "ipython3",
   "version": "3.12.3"
  }
 },
 "nbformat": 4,
 "nbformat_minor": 4
}

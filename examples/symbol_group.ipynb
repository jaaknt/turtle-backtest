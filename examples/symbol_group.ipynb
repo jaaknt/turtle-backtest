{
 "cells": [
  {
   "cell_type": "code",
   "execution_count": 2,
   "metadata": {},
   "outputs": [
    {
     "name": "stdout",
     "output_type": "stream",
     "text": [
      "['/home/jack/github/turtle-backtest', '/usr/lib/python312.zip', '/usr/lib/python3.12', '/usr/lib/python3.12/lib-dynload', '', '/home/jack/github/turtle-backtest/.venv/lib/python3.12/site-packages', '/home/jack/github/turtle-backtest']\n"
     ]
    }
   ],
   "source": [
    "import sys\n",
    "sys.path.insert(0, \"/home/jack/github/turtle-backtest\")\n",
    "print(sys.path)"
   ]
  },
  {
   "cell_type": "code",
   "execution_count": 3,
   "metadata": {},
   "outputs": [],
   "source": [
    "# from psycopg_pool import ConnectionPool\n",
    "from datetime import datetime\n",
    "# from turtle.data.models import SymbolGroup\n",
    "# from turtle.data.symbol_group import SymbolGroupRepo\n",
    "from turtle.service.data_update import DataUpdate\n",
    "from turtle.common.enums import TimeFrameUnit\n",
    "\n",
    "data_updater = DataUpdate()\n",
    "nas100 = data_updater.symbol_group_repo.get_symbol_group_list('NAS100')\n"
   ]
  },
  {
   "cell_type": "code",
   "execution_count": 3,
   "metadata": {},
   "outputs": [],
   "source": [
    "# NASDAQ 100 group\n",
    "\n",
    "import pandas as pd\n",
    "# from turtle.data.symbol_group import SymbolGroupRepo\n",
    "\n",
    "# URL to get NASDAQ company list\n",
    "url = 'https://en.wikipedia.org/wiki/NASDAQ-100'\n",
    "\n",
    "# Use pandas to read the table from the Wikipedia page\n",
    "nasdaq_table = pd.read_html(url, match='Company')[0]\n",
    "\n",
    "# Extract the 'Ticker' column (assuming it's in the first table)\n",
    "nasdaq_symbols = nasdaq_table['Ticker'].tolist()\n",
    "# print(nasdaq_symbols)\n",
    "\n",
    "for symbol in nasdaq_symbols:\n",
    "    data_updater.symbol_group_repo.update_symbol_group('NAS100', symbol)"
   ]
  },
  {
   "cell_type": "code",
   "execution_count": null,
   "metadata": {},
   "outputs": [],
   "source": [
    "symbol_group_list = data_updater.symbol_group_repo.get_symbol_group_list('NAS100')\n",
    "for item in symbol_group_list:\n",
    "    print(item.symbol)"
   ]
  },
  {
   "cell_type": "code",
   "execution_count": null,
   "metadata": {},
   "outputs": [],
   "source": "# from psycopg_pool import ConnectionPool\nfrom datetime import datetime\n# from turtle.data.models import SymbolGroup\n# from turtle.data.symbol_group import SymbolGroupRepo\nfrom turtle.service.data_update import DataUpdate\nfrom turtle.service.strategy_runner import StrategyRunner\nfrom turtle.common.enums import TimeFrameUnit\n\ndata_updater = DataUpdate()\nstrategy_runner = StrategyRunner(time_frame_unit=TimeFrameUnit.DAY)\n\nstart_date: datetime = datetime(year=2022, month=1, day=1)\nend_date: datetime = datetime(year=2022, month=12, day=31) \n\nmomentum_stock_list = strategy_runner.get_tickers_count(start_date, end_date, strategy_runner.darvas_box_strategy)\n\ntop_50 = sorted(momentum_stock_list, key=lambda x: x[1], reverse=True)[:50]\nfor symbol in top_50:\n    data_updater.symbol_group_repo.update_symbol_group('DARVAS50', symbol[0], symbol[1])\nprint(top_50)\n\ntop_100 = sorted(momentum_stock_list, key=lambda x: x[1], reverse=True)[:100]\nfor symbol in top_100:\n    data_updater.symbol_group_repo.update_symbol_group('DARVAS100', symbol[0], symbol[1])\nprint(top_100)\n\ntop_200 = sorted(momentum_stock_list, key=lambda x: x[1], reverse=True)[:200]\nfor symbol in top_200:\n    data_updater.symbol_group_repo.update_symbol_group('DARVAS200', symbol[0], symbol[1])\nprint(top_200)    \n\ntop_500 = sorted(momentum_stock_list, key=lambda x: x[1], reverse=True)[:500]\nfor symbol in top_500:\n    data_updater.symbol_group_repo.update_symbol_group('DARVAS500', symbol[0], symbol[1])\nprint(top_500)"
  }
 ],
 "metadata": {
  "kernelspec": {
   "display_name": "Python 3 (ipykernel)",
   "language": "python",
   "name": "python3"
  },
  "language_info": {
   "codemirror_mode": {
    "name": "ipython",
    "version": 3
   },
   "file_extension": ".py",
   "mimetype": "text/x-python",
   "name": "python",
   "nbconvert_exporter": "python",
   "pygments_lexer": "ipython3",
   "version": "3.12.3"
  }
 },
 "nbformat": 4,
 "nbformat_minor": 4
}